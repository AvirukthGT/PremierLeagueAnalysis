{
 "cells": [
  {
   "cell_type": "markdown",
   "metadata": {},
   "source": [
    "# Transfer Value Prediction"
   ]
  },
  {
   "cell_type": "code",
   "execution_count": 1,
   "metadata": {},
   "outputs": [],
   "source": [
    "import numpy as np\n",
    "import pandas as pd"
   ]
  },
  {
   "cell_type": "code",
   "execution_count": 2,
   "metadata": {},
   "outputs": [],
   "source": [
    "player_stats=pd.read_csv('player_stats.csv')\n",
    "player_wages=pd.read_csv('player_wages.csv')"
   ]
  },
  {
   "cell_type": "code",
   "execution_count": 3,
   "metadata": {},
   "outputs": [
    {
     "data": {
      "text/plain": [
       "Index(['Rank', 'Player', 'Nationality', 'Position', 'Club', 'Age', 'BirthYear',\n",
       "       'MatchesPlayed', 'MatchesStarted', 'MinutesPlayed', 'MatchesPlayed_90s',\n",
       "       'Goals_Total', 'Assists_Total', 'GoalsPlusAssists', 'NonPenaltyGoals',\n",
       "       'PenaltyGoals', 'PenaltyAttempts', 'YellowCards', 'RedCards',\n",
       "       'xG_Total', 'NonPenalty_xG', 'xAG_Total', 'NonPenalty_xG_plus_xAG',\n",
       "       'ProgressiveCarries', 'ProgressivePasses', 'ProgressivePassesReceived',\n",
       "       'Goals_Total_per90', 'Assists_Total_per90', 'GoalsPlusAssists_per90',\n",
       "       'NonPenaltyGoals_per90', 'G+A_ExclPK', 'xG_Total_per90',\n",
       "       'xAG_Total_per90', 'xG_plus_xAG', 'NonPenalty_xG_per90',\n",
       "       'NonPenalty_xG_plus_xAG_per90'],\n",
       "      dtype='object')"
      ]
     },
     "execution_count": 3,
     "metadata": {},
     "output_type": "execute_result"
    }
   ],
   "source": [
    "player_stats.columns"
   ]
  },
  {
   "cell_type": "code",
   "execution_count": 4,
   "metadata": {},
   "outputs": [
    {
     "data": {
      "text/plain": [
       "Index(['Rk', 'Player', 'Nation', 'Pos', 'Squad', 'Age',\n",
       "       'Annual Wages in pounds', 'Weekly Wages in pounds'],\n",
       "      dtype='object')"
      ]
     },
     "execution_count": 4,
     "metadata": {},
     "output_type": "execute_result"
    }
   ],
   "source": [
    "player_wages.columns"
   ]
  },
  {
   "cell_type": "markdown",
   "metadata": {},
   "source": [
    "# Remove commas and convert to float\n",
    "player_wages['Annual Wages in pounds'] = (\n",
    "    player_wages['Annual Wages in pounds'].str.replace(',', '').astype(float)\n",
    ")\n",
    "\n",
    "player_wages['Weekly Wages in pounds'] = (\n",
    "    player_wages['Weekly Wages in pounds'].str.replace(',', '').astype(float)"
   ]
  },
  {
   "cell_type": "markdown",
   "metadata": {},
   "source": [
    "### Merge Datasets"
   ]
  },
  {
   "cell_type": "code",
   "execution_count": 13,
   "metadata": {},
   "outputs": [],
   "source": [
    "# Ensure both have stripped player names (sometimes extra spaces or accents can interfere)\n",
    "player_stats['Player'] = player_stats['Player'].str.strip()\n",
    "player_wages['Player'] = player_wages['Player'].str.strip()\n",
    "\n",
    "# Merge on Player name\n",
    "merged_df = pd.merge(player_stats, player_wages, on='Player', how='inner')"
   ]
  },
  {
   "cell_type": "code",
   "execution_count": 14,
   "metadata": {},
   "outputs": [
    {
     "data": {
      "text/plain": [
       "Rank                              int64\n",
       "Player                           object\n",
       "Nationality                      object\n",
       "Position                         object\n",
       "Club                             object\n",
       "Age_x                           float64\n",
       "BirthYear                       float64\n",
       "MatchesPlayed                     int64\n",
       "MatchesStarted                    int64\n",
       "MinutesPlayed                     int64\n",
       "MatchesPlayed_90s               float64\n",
       "Goals_Total                       int64\n",
       "Assists_Total                     int64\n",
       "GoalsPlusAssists                  int64\n",
       "NonPenaltyGoals                   int64\n",
       "PenaltyGoals                      int64\n",
       "PenaltyAttempts                   int64\n",
       "YellowCards                       int64\n",
       "RedCards                          int64\n",
       "xG_Total                        float64\n",
       "NonPenalty_xG                   float64\n",
       "xAG_Total                       float64\n",
       "NonPenalty_xG_plus_xAG          float64\n",
       "ProgressiveCarries                int64\n",
       "ProgressivePasses                 int64\n",
       "ProgressivePassesReceived         int64\n",
       "Goals_Total_per90               float64\n",
       "Assists_Total_per90             float64\n",
       "GoalsPlusAssists_per90          float64\n",
       "NonPenaltyGoals_per90           float64\n",
       "G+A_ExclPK                      float64\n",
       "xG_Total_per90                  float64\n",
       "xAG_Total_per90                 float64\n",
       "xG_plus_xAG                     float64\n",
       "NonPenalty_xG_per90             float64\n",
       "NonPenalty_xG_plus_xAG_per90    float64\n",
       "Rk                                int64\n",
       "Nation                           object\n",
       "Pos                              object\n",
       "Squad                            object\n",
       "Age_y                             int64\n",
       "Annual Wages in pounds          float64\n",
       "Weekly Wages in pounds          float64\n",
       "dtype: object"
      ]
     },
     "execution_count": 14,
     "metadata": {},
     "output_type": "execute_result"
    }
   ],
   "source": [
    "merged_df.dtypes"
   ]
  },
  {
   "cell_type": "code",
   "execution_count": 15,
   "metadata": {},
   "outputs": [],
   "source": [
    "# Drop unnecessary columns if needed\n",
    "merged_df.drop(['Rk', 'Nation', 'Squad'], axis=1, inplace=True, errors='ignore')\n",
    "\n",
    "# Check for missing values\n",
    "merged_df.isnull().sum()\n",
    "\n",
    "# Handle missing values\n",
    "merged_df = merged_df.dropna()  # Or use imputation if needed"
   ]
  },
  {
   "cell_type": "code",
   "execution_count": 16,
   "metadata": {},
   "outputs": [],
   "source": [
    "# Convert wages to numeric (remove commas/£ signs if needed)\n",
    "merged_df['Weekly Wages in pounds'] = (\n",
    "    merged_df['Weekly Wages in pounds'].replace('[£,]', '', regex=True).astype(float)\n",
    ")\n",
    "\n",
    "# Encode categorical columns if needed\n",
    "from sklearn.preprocessing import LabelEncoder\n",
    "le = LabelEncoder()\n",
    "merged_df['Position'] = le.fit_transform(merged_df['Position'])  "
   ]
  },
  {
   "cell_type": "code",
   "execution_count": null,
   "metadata": {},
   "outputs": [],
   "source": []
  }
 ],
 "metadata": {
  "kernelspec": {
   "display_name": "Python 3.11.9 64-bit",
   "language": "python",
   "name": "python3"
  },
  "language_info": {
   "codemirror_mode": {
    "name": "ipython",
    "version": 3
   },
   "file_extension": ".py",
   "mimetype": "text/x-python",
   "name": "python",
   "nbconvert_exporter": "python",
   "pygments_lexer": "ipython3",
   "version": "3.11.9"
  },
  "orig_nbformat": 4,
  "vscode": {
   "interpreter": {
    "hash": "0d8a59e037e1cca35c6b62bef859f5508465c921fc5cca87b410d32ac26c6bd0"
   }
  }
 },
 "nbformat": 4,
 "nbformat_minor": 2
}
